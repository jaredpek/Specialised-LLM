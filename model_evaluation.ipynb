{
 "cells": [
  {
   "cell_type": "code",
   "execution_count": 1,
   "id": "6a82a2cc",
   "metadata": {},
   "outputs": [],
   "source": [
    "from transformers import (\n",
    "    AutoModelForCausalLM,\n",
    "    AutoTokenizer,\n",
    "    BitsAndBytesConfig,\n",
    "    AutoTokenizer,\n",
    "    TrainingArguments,\n",
    "    Trainer,\n",
    "    set_seed,\n",
    "    DataCollatorForLanguageModeling,\n",
    ")\n",
    "import evaluate\n",
    "from peft import LoraConfig, get_peft_model, prepare_model_for_kbit_training, PeftModel\n",
    "import torch\n",
    "import pandas as pd\n",
    "import numpy as np\n",
    "from dotenv import load_dotenv\n",
    "from huggingface_hub import login\n",
    "import os\n",
    "\n",
    "pd.set_option('display.max_colwidth', None)"
   ]
  },
  {
   "cell_type": "code",
   "execution_count": 2,
   "id": "c77fccab",
   "metadata": {},
   "outputs": [],
   "source": [
    "load_dotenv()\n",
    "\n",
    "RANDOM_SEED = int(os.getenv(\"RANDOM_SEED\"))\n",
    "HUGGINGFACE_TOKEN = os.getenv(\"HUGGINGFACE_TOKEN\")\n",
    "\n",
    "set_seed(RANDOM_SEED)\n",
    "login(token=HUGGINGFACE_TOKEN)"
   ]
  },
  {
   "cell_type": "code",
   "execution_count": 3,
   "id": "783a15a8",
   "metadata": {},
   "outputs": [
    {
     "name": "stdout",
     "output_type": "stream",
     "text": [
      "Device Used = NVIDIA GeForce RTX 4060\n"
     ]
    }
   ],
   "source": [
    "DEVICE = torch.cuda.get_device_name(torch.cuda.current_device())\n",
    "\n",
    "print(f\"\"\"Device Used = {DEVICE}\"\"\")"
   ]
  },
  {
   "cell_type": "code",
   "execution_count": 4,
   "id": "49f50988",
   "metadata": {},
   "outputs": [],
   "source": [
    "compute_dtype = getattr(torch, \"float16\")\n",
    "bnb_config = BitsAndBytesConfig(\n",
    "    load_in_4bit=True,\n",
    "    bnb_4bit_quant_type='nf4',\n",
    "    bnb_4bit_compute_dtype=compute_dtype,\n",
    "    bnb_4bit_use_double_quant=False,\n",
    ")"
   ]
  },
  {
   "cell_type": "code",
   "execution_count": 5,
   "id": "b4a70c74",
   "metadata": {},
   "outputs": [
    {
     "name": "stdout",
     "output_type": "stream",
     "text": [
      "Model Used = google/gemma-2-2b-it\n"
     ]
    }
   ],
   "source": [
    "MODEL_NAME = os.getenv(\"HUGGINGFACE_MODEL_NAME\")\n",
    "\n",
    "print(f\"\"\"Model Used = {MODEL_NAME}\"\"\")"
   ]
  },
  {
   "cell_type": "code",
   "execution_count": 6,
   "id": "090a306b",
   "metadata": {},
   "outputs": [],
   "source": [
    "tokenizer = AutoTokenizer.from_pretrained(\n",
    "    MODEL_NAME,\n",
    "    trust_remote_code=True,\n",
    "    padding_side=\"left\",\n",
    "    add_eos_token=True,\n",
    "    add_bos_token=True,\n",
    "    use_fast=False,\n",
    ")\n",
    "tokenizer.pad_token = tokenizer.eos_token"
   ]
  },
  {
   "cell_type": "code",
   "execution_count": 7,
   "id": "e2491af2",
   "metadata": {},
   "outputs": [
    {
     "name": "stdout",
     "output_type": "stream",
     "text": [
      "Maximum Tokens = 512\n",
      "Temperature = 0.2\n",
      "Top_P = 0.8\n",
      "Repetition Penalty = 1.3\n"
     ]
    }
   ],
   "source": [
    "MAX_TOKENS = int(os.getenv(\"MAX_TOKENS\"))\n",
    "TEMPERATURE = float(os.getenv(\"TEMPERATURE\"))\n",
    "TOP_P = float(os.getenv(\"TOP_P\"))\n",
    "REPETITION_PENALTY = float(os.getenv(\"REPETITION_PENALTY\"))\n",
    "\n",
    "print(f\"\"\"Maximum Tokens = {MAX_TOKENS}\n",
    "Temperature = {TEMPERATURE}\n",
    "Top_P = {TOP_P}\n",
    "Repetition Penalty = {REPETITION_PENALTY}\"\"\")"
   ]
  },
  {
   "cell_type": "code",
   "execution_count": 8,
   "id": "38803094",
   "metadata": {},
   "outputs": [],
   "source": [
    "def get_chat_component(role, text):\n",
    "    return {\"role\": role, \"content\": text}\n",
    "\n",
    "def get_user_chat_component(text):\n",
    "    return get_chat_component(\"user\", text)\n",
    "\n",
    "def get_assistant_chat_component(text):\n",
    "    return get_chat_component(\"assistant\", text)\n",
    "\n",
    "def generate(model, prompt, \n",
    "             max_new_tokens=MAX_TOKENS, \n",
    "             temperature=TEMPERATURE, \n",
    "             top_p=TOP_P, \n",
    "             tokenizer=tokenizer, \n",
    "             repetition_penalty=REPETITION_PENALTY):\n",
    "    \n",
    "    \"\"\"\n",
    "    Generate text using the provided model and prompt\n",
    "    \n",
    "    Args:\n",
    "        model: The language model\n",
    "        prompt: Input text prompt\n",
    "        max_new_tokens: Maximum length of generated text\n",
    "        tokenizer: Pre-instantiated tokenizer (uses global tokenizer by default)\n",
    "    \n",
    "    Returns:\n",
    "        List containing generated text\n",
    "    \"\"\"\n",
    "    seperator = 200 * '-'\n",
    "    \n",
    "    # Tokenize the input\n",
    "    formatted_prompt = tokenizer.apply_chat_template(\n",
    "        [get_user_chat_component(prompt)],\n",
    "        tokenize=False, \n",
    "        add_generation_prompt=False,\n",
    "    )\n",
    "    print(f'{seperator}\\nINPUT [{len(formatted_prompt)}]:\\n{formatted_prompt}\\n{seperator}')\n",
    "\n",
    "    inputs = tokenizer(\n",
    "        formatted_prompt,\n",
    "        return_tensors=\"pt\", \n",
    "        truncation=True, \n",
    "        padding=True, \n",
    "    )\n",
    "    \n",
    "    # Move to same device as model\n",
    "    device = next(model.parameters()).device\n",
    "    inputs = {k: v.to(device) for k, v in inputs.items()}\n",
    "    \n",
    "    # Generate text\n",
    "    with torch.no_grad():\n",
    "        outputs = model.generate(\n",
    "            inputs[\"input_ids\"],\n",
    "            attention_mask=inputs[\"attention_mask\"],\n",
    "            num_return_sequences=1,\n",
    "            temperature=temperature,\n",
    "            top_p=top_p,\n",
    "            do_sample=True,\n",
    "            eos_token_id=tokenizer.eos_token_id,\n",
    "            pad_token_id=tokenizer.eos_token_id,\n",
    "            max_new_tokens=max_new_tokens,\n",
    "            use_cache=False,\n",
    "            repetition_penalty=repetition_penalty,\n",
    "        )\n",
    "    \n",
    "    # Decode the generated text\n",
    "    generated_text = tokenizer.decode(outputs[0], skip_special_tokens=False)\n",
    "    \n",
    "    print(f'{seperator}\\nOUTPUT [{len(generated_text)}]:\\n{generated_text}\\n{seperator}')\n",
    "\n",
    "    return generated_text"
   ]
  },
  {
   "cell_type": "markdown",
   "id": "25c6095c",
   "metadata": {},
   "source": [
    "## Data Preparation"
   ]
  },
  {
   "cell_type": "code",
   "execution_count": 9,
   "id": "7b8223f6",
   "metadata": {},
   "outputs": [
    {
     "name": "stdout",
     "output_type": "stream",
     "text": [
      "Generated Data Directory = data_generation/generated_data\n",
      "\n",
      "Training Proportion = 0.7\n",
      "Validation Proportion = 0.2\n",
      "Testing Proportion = 0.1\n"
     ]
    }
   ],
   "source": [
    "GENERATED_DATA_DIR = os.getenv('GENERATED_DATA_DIR')\n",
    "TRAINING_PROPORTION = float(os.getenv(\"TRAINING_PROPORTION\"))\n",
    "VALIDATION_PROPORTION = float(os.getenv(\"VALIDATION_PROPORTION\"))\n",
    "TESTING_PROPORTION = float(os.getenv(\"TESTING_PROPORTION\"))\n",
    "\n",
    "print(f\"\"\"Generated Data Directory = {GENERATED_DATA_DIR}\n",
    "      \n",
    "Training Proportion = {TRAINING_PROPORTION}\n",
    "Validation Proportion = {VALIDATION_PROPORTION}\n",
    "Testing Proportion = {TESTING_PROPORTION}\"\"\")"
   ]
  },
  {
   "cell_type": "code",
   "execution_count": 10,
   "id": "8fa9d9a9",
   "metadata": {},
   "outputs": [],
   "source": [
    "def format_text(entry):\n",
    "    entry['text'] = f'Instruct: {entry[\"input\"]}\\nOutput: {entry[\"output\"]}'\n",
    "\n",
    "def compile_dataset(source_dir, \n",
    "                    training_proportion=TRAINING_PROPORTION, \n",
    "                    validation_proportion=VALIDATION_PROPORTION):\n",
    "    \n",
    "    training_df = pd.DataFrame()\n",
    "    validation_df = pd.DataFrame()\n",
    "    testing_df = pd.DataFrame()\n",
    "\n",
    "    for source_csv_dir in os.listdir(source_dir):\n",
    "        source_csv_paths = os.listdir(os.path.join(source_dir, source_csv_dir))\n",
    "        for csv_path in source_csv_paths:\n",
    "            csv = pd.read_csv(os.path.join(source_dir, source_csv_dir, csv_path))\n",
    "            csv = csv.sample(frac=1, random_state=RANDOM_SEED).reset_index(drop=True)\n",
    "            csv['text'] = csv.apply(lambda entry: tokenizer.apply_chat_template([\n",
    "                get_user_chat_component(entry[\"input\"]),\n",
    "                get_assistant_chat_component(entry[\"output\"]),\n",
    "            ], tokenize=False, add_generation_prompt=False), 1)\n",
    "            total_qty = len(csv)\n",
    "            validation_start = int(total_qty * training_proportion)\n",
    "            validation_end = validation_start + int(total_qty * validation_proportion)\n",
    "            training_df = pd.concat([training_df, csv.iloc[:validation_start]])\n",
    "            validation_df = pd.concat([validation_df, csv.iloc[validation_start:validation_end]])\n",
    "            testing_df = pd.concat([testing_df, csv.iloc[validation_end:]])\n",
    "\n",
    "    training_df = training_df.sample(frac=1, random_state=RANDOM_SEED).reset_index(drop=True)\n",
    "    validation_df = validation_df.sample(frac=1, random_state=RANDOM_SEED).reset_index(drop=True)\n",
    "    testing_df = testing_df.sample(frac=1, random_state=RANDOM_SEED).reset_index(drop=True)\n",
    "\n",
    "    return training_df, validation_df, testing_df"
   ]
  },
  {
   "cell_type": "code",
   "execution_count": 11,
   "id": "54b75b7d",
   "metadata": {},
   "outputs": [],
   "source": [
    "training_data, validation_data, testing_data = compile_dataset(GENERATED_DATA_DIR)"
   ]
  },
  {
   "cell_type": "code",
   "execution_count": 12,
   "id": "564e6a23",
   "metadata": {},
   "outputs": [
    {
     "data": {
      "text/html": [
       "<div>\n",
       "<style scoped>\n",
       "    .dataframe tbody tr th:only-of-type {\n",
       "        vertical-align: middle;\n",
       "    }\n",
       "\n",
       "    .dataframe tbody tr th {\n",
       "        vertical-align: top;\n",
       "    }\n",
       "\n",
       "    .dataframe thead th {\n",
       "        text-align: right;\n",
       "    }\n",
       "</style>\n",
       "<table border=\"1\" class=\"dataframe\">\n",
       "  <thead>\n",
       "    <tr style=\"text-align: right;\">\n",
       "      <th></th>\n",
       "      <th>input</th>\n",
       "      <th>output</th>\n",
       "      <th>text</th>\n",
       "    </tr>\n",
       "  </thead>\n",
       "  <tbody>\n",
       "    <tr>\n",
       "      <th>0</th>\n",
       "      <td>Describe the delivery stage of the Cyber Kill Chain.</td>\n",
       "      <td>The delivery stage, the third in the Cyber Kill Chain, involves delivering the weaponized bundle to the victim through various means such as email, web, or USB drives.</td>\n",
       "      <td>&lt;bos&gt;&lt;start_of_turn&gt;user\\nDescribe the delivery stage of the Cyber Kill Chain.&lt;end_of_turn&gt;\\n&lt;start_of_turn&gt;model\\nThe delivery stage, the third in the Cyber Kill Chain, involves delivering the weaponized bundle to the victim through various means such as email, web, or USB drives.&lt;end_of_turn&gt;\\n</td>\n",
       "    </tr>\n",
       "    <tr>\n",
       "      <th>1</th>\n",
       "      <td>Provide the improved length checking condition and explain why it's better.</td>\n",
       "      <td>The improved length checking condition is: `if (len1 &lt;= sizeof(buf) &amp;&amp; len2 &lt;= sizeof(buf) &amp;&amp; (len1 + len2 + 1 &lt;= sizeof(buf)))`. \\nThis condition is better because it addresses the `integer overflow` vulnerability more comprehensively. The original check `if (len1 + len2 + 1 &lt;= sizeof(buf))` could be bypassed if `len1 + len2 + 1` overflowed and wrapped around to a small number, even if `len1` or `len2` individually were very large. The improved condition adds two preliminary checks: \\n1.  `len1 &lt;= sizeof(buf)`: Ensures that the first length itself does not exceed the buffer's capacity. \\n2.  `len2 &lt;= sizeof(buf)`: Ensures that the second length itself does not exceed the buffer's capacity. \\nBy validating individual lengths first, it prevents scenarios where a single extremely large input (like `UINT_MAX`) could cause an overflow in the sum, leading to a false positive in the length check and a subsequent `Buffer Overflow`. The final check `(len1 + len2 + 1 &lt;= sizeof(buf))` then safely verifies the combined length after the individual components have been deemed reasonable.</td>\n",
       "      <td>&lt;bos&gt;&lt;start_of_turn&gt;user\\nProvide the improved length checking condition and explain why it's better.&lt;end_of_turn&gt;\\n&lt;start_of_turn&gt;model\\nThe improved length checking condition is: `if (len1 &lt;= sizeof(buf) &amp;&amp; len2 &lt;= sizeof(buf) &amp;&amp; (len1 + len2 + 1 &lt;= sizeof(buf)))`. \\nThis condition is better because it addresses the `integer overflow` vulnerability more comprehensively. The original check `if (len1 + len2 + 1 &lt;= sizeof(buf))` could be bypassed if `len1 + len2 + 1` overflowed and wrapped around to a small number, even if `len1` or `len2` individually were very large. The improved condition adds two preliminary checks: \\n1.  `len1 &lt;= sizeof(buf)`: Ensures that the first length itself does not exceed the buffer's capacity. \\n2.  `len2 &lt;= sizeof(buf)`: Ensures that the second length itself does not exceed the buffer's capacity. \\nBy validating individual lengths first, it prevents scenarios where a single extremely large input (like `UINT_MAX`) could cause an overflow in the sum, leading to a false positive in the length check and a subsequent `Buffer Overflow`. The final check `(len1 + len2 + 1 &lt;= sizeof(buf))` then safely verifies the combined length after the individual components have been deemed reasonable.&lt;end_of_turn&gt;\\n</td>\n",
       "    </tr>\n",
       "    <tr>\n",
       "      <th>2</th>\n",
       "      <td>Provide an example of how a criminal might impersonate a user's biometric data.</td>\n",
       "      <td>For example, a criminal might impersonate a user's biometric data by creating a 'copy' of a user's fingerprint. This could be achieved by re-creating the fingerprint with a wax imprint that the criminal then places on top of their own finger to deceive the biometric scanner.</td>\n",
       "      <td>&lt;bos&gt;&lt;start_of_turn&gt;user\\nProvide an example of how a criminal might impersonate a user's biometric data.&lt;end_of_turn&gt;\\n&lt;start_of_turn&gt;model\\nFor example, a criminal might impersonate a user's biometric data by creating a 'copy' of a user's fingerprint. This could be achieved by re-creating the fingerprint with a wax imprint that the criminal then places on top of their own finger to deceive the biometric scanner.&lt;end_of_turn&gt;\\n</td>\n",
       "    </tr>\n",
       "    <tr>\n",
       "      <th>3</th>\n",
       "      <td>What are 'measures' put in place to prevent further queries?</td>\n",
       "      <td>Measures put in place to prevent further queries are security actions or configurations implemented to block or restrict unauthorized access attempts to the database.</td>\n",
       "      <td>&lt;bos&gt;&lt;start_of_turn&gt;user\\nWhat are 'measures' put in place to prevent further queries?&lt;end_of_turn&gt;\\n&lt;start_of_turn&gt;model\\nMeasures put in place to prevent further queries are security actions or configurations implemented to block or restrict unauthorized access attempts to the database.&lt;end_of_turn&gt;\\n</td>\n",
       "    </tr>\n",
       "    <tr>\n",
       "      <th>4</th>\n",
       "      <td>What technologies should be considered for internet access strategy?</td>\n",
       "      <td>Technologies to consider for an internet access strategy include internet surfing separation and internet isolation technology, with an assessment of their pros and cons.</td>\n",
       "      <td>&lt;bos&gt;&lt;start_of_turn&gt;user\\nWhat technologies should be considered for internet access strategy?&lt;end_of_turn&gt;\\n&lt;start_of_turn&gt;model\\nTechnologies to consider for an internet access strategy include internet surfing separation and internet isolation technology, with an assessment of their pros and cons.&lt;end_of_turn&gt;\\n</td>\n",
       "    </tr>\n",
       "    <tr>\n",
       "      <th>...</th>\n",
       "      <td>...</td>\n",
       "      <td>...</td>\n",
       "      <td>...</td>\n",
       "    </tr>\n",
       "    <tr>\n",
       "      <th>5523</th>\n",
       "      <td>Compare the scope of control gained by the attacker over Workstation A initially with the full control achieved over the domain later.</td>\n",
       "      <td>Initially, with the introduction of the hacking tool and RAT 1 in December 2017, the attacker gained the capability to execute shell scripts remotely and upload/download files to Workstation A, indicating control over that specific workstation. Later, through privilege escalation and lateral movement, the attacker compromised the Windows authentication system and obtained administrator and user credentials, leading to full control over all Windows-based servers, hosted applications, all employee workstations, and underlying data within the domain. **Workstation A** refers to a single compromised computer, whereas **the domain** encompasses a broader network of interconnected computers, servers, and resources under a common security authority.</td>\n",
       "      <td>&lt;bos&gt;&lt;start_of_turn&gt;user\\nCompare the scope of control gained by the attacker over Workstation A initially with the full control achieved over the domain later.&lt;end_of_turn&gt;\\n&lt;start_of_turn&gt;model\\nInitially, with the introduction of the hacking tool and RAT 1 in December 2017, the attacker gained the capability to execute shell scripts remotely and upload/download files to Workstation A, indicating control over that specific workstation. Later, through privilege escalation and lateral movement, the attacker compromised the Windows authentication system and obtained administrator and user credentials, leading to full control over all Windows-based servers, hosted applications, all employee workstations, and underlying data within the domain. **Workstation A** refers to a single compromised computer, whereas **the domain** encompasses a broader network of interconnected computers, servers, and resources under a common security authority.&lt;end_of_turn&gt;\\n</td>\n",
       "    </tr>\n",
       "    <tr>\n",
       "      <th>5524</th>\n",
       "      <td>What does a pre-computed hash table contain?</td>\n",
       "      <td>A pre-computed hash table contains pairs of passwords and their corresponding hash values. Essentially, it's a lookup table where an attacker can find a password if they have its hash, by matching the acquired hash with one of the pre-computed hashes in the table.</td>\n",
       "      <td>&lt;bos&gt;&lt;start_of_turn&gt;user\\nWhat does a pre-computed hash table contain?&lt;end_of_turn&gt;\\n&lt;start_of_turn&gt;model\\nA pre-computed hash table contains pairs of passwords and their corresponding hash values. Essentially, it's a lookup table where an attacker can find a password if they have its hash, by matching the acquired hash with one of the pre-computed hashes in the table.&lt;end_of_turn&gt;\\n</td>\n",
       "    </tr>\n",
       "    <tr>\n",
       "      <th>5525</th>\n",
       "      <td>How many possible passwords are there for a 5-character lowercase password?</td>\n",
       "      <td>For a 5-character lowercase password, there are 26 possible choices for each character (the 26 lowercase alphabets). Therefore, the total number of possible passwords is 26 raised to the power of 5 (26^5).</td>\n",
       "      <td>&lt;bos&gt;&lt;start_of_turn&gt;user\\nHow many possible passwords are there for a 5-character lowercase password?&lt;end_of_turn&gt;\\n&lt;start_of_turn&gt;model\\nFor a 5-character lowercase password, there are 26 possible choices for each character (the 26 lowercase alphabets). Therefore, the total number of possible passwords is 26 raised to the power of 5 (26^5).&lt;end_of_turn&gt;\\n</td>\n",
       "    </tr>\n",
       "    <tr>\n",
       "      <th>5526</th>\n",
       "      <td>Compare passphrases with traditional, shorter passwords in terms of memorability and security.</td>\n",
       "      <td>A 'passphrase' involves users entering sentences or long phrases that are generally easier to remember than complex, shorter passwords. The system applies a hash function to compute the fixed-size actual passwords from these passphrases. While traditional short passwords often rely on complexity (mix of characters), passphrases leverage length and natural language for both memorability and enhanced security against brute-force attacks due to their extended length.</td>\n",
       "      <td>&lt;bos&gt;&lt;start_of_turn&gt;user\\nCompare passphrases with traditional, shorter passwords in terms of memorability and security.&lt;end_of_turn&gt;\\n&lt;start_of_turn&gt;model\\nA 'passphrase' involves users entering sentences or long phrases that are generally easier to remember than complex, shorter passwords. The system applies a hash function to compute the fixed-size actual passwords from these passphrases. While traditional short passwords often rely on complexity (mix of characters), passphrases leverage length and natural language for both memorability and enhanced security against brute-force attacks due to their extended length.&lt;end_of_turn&gt;\\n</td>\n",
       "    </tr>\n",
       "    <tr>\n",
       "      <th>5527</th>\n",
       "      <td>Describe how an attacker can execute arbitrary commands using buffer overflows.</td>\n",
       "      <td>An attacker can execute arbitrary commands on a system by exploiting buffer overflows. This typically involves overwriting a buffer in a program that is designed to execute commands. For example, if a program has a buffer `buf[12]` and uses `strcpy` to copy a user-provided command string into it, and then subsequently executes that command using a function like `execv`, an attacker can provide a malicious command string that overflows `buf`. This overflow can be used to overwrite the intended command with a command chosen by the attacker, such as `/usr/bin/ls`, or even more dangerous commands, which are then executed by the system.</td>\n",
       "      <td>&lt;bos&gt;&lt;start_of_turn&gt;user\\nDescribe how an attacker can execute arbitrary commands using buffer overflows.&lt;end_of_turn&gt;\\n&lt;start_of_turn&gt;model\\nAn attacker can execute arbitrary commands on a system by exploiting buffer overflows. This typically involves overwriting a buffer in a program that is designed to execute commands. For example, if a program has a buffer `buf[12]` and uses `strcpy` to copy a user-provided command string into it, and then subsequently executes that command using a function like `execv`, an attacker can provide a malicious command string that overflows `buf`. This overflow can be used to overwrite the intended command with a command chosen by the attacker, such as `/usr/bin/ls`, or even more dangerous commands, which are then executed by the system.&lt;end_of_turn&gt;\\n</td>\n",
       "    </tr>\n",
       "  </tbody>\n",
       "</table>\n",
       "<p>5528 rows × 3 columns</p>\n",
       "</div>"
      ],
      "text/plain": [
       "                                                                                                                                       input  \\\n",
       "0                                                                                       Describe the delivery stage of the Cyber Kill Chain.   \n",
       "1                                                                Provide the improved length checking condition and explain why it's better.   \n",
       "2                                                            Provide an example of how a criminal might impersonate a user's biometric data.   \n",
       "3                                                                               What are 'measures' put in place to prevent further queries?   \n",
       "4                                                                       What technologies should be considered for internet access strategy?   \n",
       "...                                                                                                                                      ...   \n",
       "5523  Compare the scope of control gained by the attacker over Workstation A initially with the full control achieved over the domain later.   \n",
       "5524                                                                                            What does a pre-computed hash table contain?   \n",
       "5525                                                             How many possible passwords are there for a 5-character lowercase password?   \n",
       "5526                                          Compare passphrases with traditional, shorter passwords in terms of memorability and security.   \n",
       "5527                                                         Describe how an attacker can execute arbitrary commands using buffer overflows.   \n",
       "\n",
       "                                                                                                                                                                                                                                                                                                                                                                                                                                                                                                                                                                                                                                                                                                                                                                                                                                                                                                                                                                                                                                                                                                                                   output  \\\n",
       "0                                                                                                                                                                                                                                                                                                                                                                                                                                                                                                                                                                                                                                                                                                                                                                                                                                                                                                                                                                 The delivery stage, the third in the Cyber Kill Chain, involves delivering the weaponized bundle to the victim through various means such as email, web, or USB drives.   \n",
       "1     The improved length checking condition is: `if (len1 <= sizeof(buf) && len2 <= sizeof(buf) && (len1 + len2 + 1 <= sizeof(buf)))`. \\nThis condition is better because it addresses the `integer overflow` vulnerability more comprehensively. The original check `if (len1 + len2 + 1 <= sizeof(buf))` could be bypassed if `len1 + len2 + 1` overflowed and wrapped around to a small number, even if `len1` or `len2` individually were very large. The improved condition adds two preliminary checks: \\n1.  `len1 <= sizeof(buf)`: Ensures that the first length itself does not exceed the buffer's capacity. \\n2.  `len2 <= sizeof(buf)`: Ensures that the second length itself does not exceed the buffer's capacity. \\nBy validating individual lengths first, it prevents scenarios where a single extremely large input (like `UINT_MAX`) could cause an overflow in the sum, leading to a false positive in the length check and a subsequent `Buffer Overflow`. The final check `(len1 + len2 + 1 <= sizeof(buf))` then safely verifies the combined length after the individual components have been deemed reasonable.   \n",
       "2                                                                                                                                                                                                                                                                                                                                                                                                                                                                                                                                                                                                                                                                                                                                                                                                                                                     For example, a criminal might impersonate a user's biometric data by creating a 'copy' of a user's fingerprint. This could be achieved by re-creating the fingerprint with a wax imprint that the criminal then places on top of their own finger to deceive the biometric scanner.   \n",
       "3                                                                                                                                                                                                                                                                                                                                                                                                                                                                                                                                                                                                                                                                                                                                                                                                                                                                                                                                                                  Measures put in place to prevent further queries are security actions or configurations implemented to block or restrict unauthorized access attempts to the database.   \n",
       "4                                                                                                                                                                                                                                                                                                                                                                                                                                                                                                                                                                                                                                                                                                                                                                                                                                                                                                                                                              Technologies to consider for an internet access strategy include internet surfing separation and internet isolation technology, with an assessment of their pros and cons.   \n",
       "...                                                                                                                                                                                                                                                                                                                                                                                                                                                                                                                                                                                                                                                                                                                                                                                                                                                                                                                                                                                                                                                                                                                                   ...   \n",
       "5523                                                                                                                                                                                                                                                                                                                                                     Initially, with the introduction of the hacking tool and RAT 1 in December 2017, the attacker gained the capability to execute shell scripts remotely and upload/download files to Workstation A, indicating control over that specific workstation. Later, through privilege escalation and lateral movement, the attacker compromised the Windows authentication system and obtained administrator and user credentials, leading to full control over all Windows-based servers, hosted applications, all employee workstations, and underlying data within the domain. **Workstation A** refers to a single compromised computer, whereas **the domain** encompasses a broader network of interconnected computers, servers, and resources under a common security authority.   \n",
       "5524                                                                                                                                                                                                                                                                                                                                                                                                                                                                                                                                                                                                                                                                                                                                                                                                                                                             A pre-computed hash table contains pairs of passwords and their corresponding hash values. Essentially, it's a lookup table where an attacker can find a password if they have its hash, by matching the acquired hash with one of the pre-computed hashes in the table.   \n",
       "5525                                                                                                                                                                                                                                                                                                                                                                                                                                                                                                                                                                                                                                                                                                                                                                                                                                                                                                                        For a 5-character lowercase password, there are 26 possible choices for each character (the 26 lowercase alphabets). Therefore, the total number of possible passwords is 26 raised to the power of 5 (26^5).   \n",
       "5526                                                                                                                                                                                                                                                                                                                                                                                                                                                                                                                                                                                                                                                 A 'passphrase' involves users entering sentences or long phrases that are generally easier to remember than complex, shorter passwords. The system applies a hash function to compute the fixed-size actual passwords from these passphrases. While traditional short passwords often rely on complexity (mix of characters), passphrases leverage length and natural language for both memorability and enhanced security against brute-force attacks due to their extended length.   \n",
       "5527                                                                                                                                                                                                                                                                                                                                                                                                                                                                      An attacker can execute arbitrary commands on a system by exploiting buffer overflows. This typically involves overwriting a buffer in a program that is designed to execute commands. For example, if a program has a buffer `buf[12]` and uses `strcpy` to copy a user-provided command string into it, and then subsequently executes that command using a function like `execv`, an attacker can provide a malicious command string that overflows `buf`. This overflow can be used to overwrite the intended command with a command chosen by the attacker, such as `/usr/bin/ls`, or even more dangerous commands, which are then executed by the system.   \n",
       "\n",
       "                                                                                                                                                                                                                                                                                                                                                                                                                                                                                                                                                                                                                                                                                                                                                                                                                                                                                                                                                                                                                                                                                                                                                                                                                                                                                              text  \n",
       "0                                                                                                                                                                                                                                                                                                                                                                                                                                                                                                                                                                                                                                                                                                                                                                                                                                                                                                                                                                                        <bos><start_of_turn>user\\nDescribe the delivery stage of the Cyber Kill Chain.<end_of_turn>\\n<start_of_turn>model\\nThe delivery stage, the third in the Cyber Kill Chain, involves delivering the weaponized bundle to the victim through various means such as email, web, or USB drives.<end_of_turn>\\n  \n",
       "1     <bos><start_of_turn>user\\nProvide the improved length checking condition and explain why it's better.<end_of_turn>\\n<start_of_turn>model\\nThe improved length checking condition is: `if (len1 <= sizeof(buf) && len2 <= sizeof(buf) && (len1 + len2 + 1 <= sizeof(buf)))`. \\nThis condition is better because it addresses the `integer overflow` vulnerability more comprehensively. The original check `if (len1 + len2 + 1 <= sizeof(buf))` could be bypassed if `len1 + len2 + 1` overflowed and wrapped around to a small number, even if `len1` or `len2` individually were very large. The improved condition adds two preliminary checks: \\n1.  `len1 <= sizeof(buf)`: Ensures that the first length itself does not exceed the buffer's capacity. \\n2.  `len2 <= sizeof(buf)`: Ensures that the second length itself does not exceed the buffer's capacity. \\nBy validating individual lengths first, it prevents scenarios where a single extremely large input (like `UINT_MAX`) could cause an overflow in the sum, leading to a false positive in the length check and a subsequent `Buffer Overflow`. The final check `(len1 + len2 + 1 <= sizeof(buf))` then safely verifies the combined length after the individual components have been deemed reasonable.<end_of_turn>\\n  \n",
       "2                                                                                                                                                                                                                                                                                                                                                                                                                                                                                                                                                                                                                                                                                                                                                                                                                                                 <bos><start_of_turn>user\\nProvide an example of how a criminal might impersonate a user's biometric data.<end_of_turn>\\n<start_of_turn>model\\nFor example, a criminal might impersonate a user's biometric data by creating a 'copy' of a user's fingerprint. This could be achieved by re-creating the fingerprint with a wax imprint that the criminal then places on top of their own finger to deceive the biometric scanner.<end_of_turn>\\n  \n",
       "3                                                                                                                                                                                                                                                                                                                                                                                                                                                                                                                                                                                                                                                                                                                                                                                                                                                                                                                                                                                 <bos><start_of_turn>user\\nWhat are 'measures' put in place to prevent further queries?<end_of_turn>\\n<start_of_turn>model\\nMeasures put in place to prevent further queries are security actions or configurations implemented to block or restrict unauthorized access attempts to the database.<end_of_turn>\\n  \n",
       "4                                                                                                                                                                                                                                                                                                                                                                                                                                                                                                                                                                                                                                                                                                                                                                                                                                                                                                                                                                     <bos><start_of_turn>user\\nWhat technologies should be considered for internet access strategy?<end_of_turn>\\n<start_of_turn>model\\nTechnologies to consider for an internet access strategy include internet surfing separation and internet isolation technology, with an assessment of their pros and cons.<end_of_turn>\\n  \n",
       "...                                                                                                                                                                                                                                                                                                                                                                                                                                                                                                                                                                                                                                                                                                                                                                                                                                                                                                                                                                                                                                                                                                                                                                                                                                                                                            ...  \n",
       "5523                                                                                                                                                                                                                                                                                          <bos><start_of_turn>user\\nCompare the scope of control gained by the attacker over Workstation A initially with the full control achieved over the domain later.<end_of_turn>\\n<start_of_turn>model\\nInitially, with the introduction of the hacking tool and RAT 1 in December 2017, the attacker gained the capability to execute shell scripts remotely and upload/download files to Workstation A, indicating control over that specific workstation. Later, through privilege escalation and lateral movement, the attacker compromised the Windows authentication system and obtained administrator and user credentials, leading to full control over all Windows-based servers, hosted applications, all employee workstations, and underlying data within the domain. **Workstation A** refers to a single compromised computer, whereas **the domain** encompasses a broader network of interconnected computers, servers, and resources under a common security authority.<end_of_turn>\\n  \n",
       "5524                                                                                                                                                                                                                                                                                                                                                                                                                                                                                                                                                                                                                                                                                                                                                                                                                                                                                            <bos><start_of_turn>user\\nWhat does a pre-computed hash table contain?<end_of_turn>\\n<start_of_turn>model\\nA pre-computed hash table contains pairs of passwords and their corresponding hash values. Essentially, it's a lookup table where an attacker can find a password if they have its hash, by matching the acquired hash with one of the pre-computed hashes in the table.<end_of_turn>\\n  \n",
       "5525                                                                                                                                                                                                                                                                                                                                                                                                                                                                                                                                                                                                                                                                                                                                                                                                                                                                                                                        <bos><start_of_turn>user\\nHow many possible passwords are there for a 5-character lowercase password?<end_of_turn>\\n<start_of_turn>model\\nFor a 5-character lowercase password, there are 26 possible choices for each character (the 26 lowercase alphabets). Therefore, the total number of possible passwords is 26 raised to the power of 5 (26^5).<end_of_turn>\\n  \n",
       "5526                                                                                                                                                                                                                                                                                                                                                                                                                                                                                                                                                                                                                              <bos><start_of_turn>user\\nCompare passphrases with traditional, shorter passwords in terms of memorability and security.<end_of_turn>\\n<start_of_turn>model\\nA 'passphrase' involves users entering sentences or long phrases that are generally easier to remember than complex, shorter passwords. The system applies a hash function to compute the fixed-size actual passwords from these passphrases. While traditional short passwords often rely on complexity (mix of characters), passphrases leverage length and natural language for both memorability and enhanced security against brute-force attacks due to their extended length.<end_of_turn>\\n  \n",
       "5527                                                                                                                                                                                                                                                                                                                                                                                                                                                                  <bos><start_of_turn>user\\nDescribe how an attacker can execute arbitrary commands using buffer overflows.<end_of_turn>\\n<start_of_turn>model\\nAn attacker can execute arbitrary commands on a system by exploiting buffer overflows. This typically involves overwriting a buffer in a program that is designed to execute commands. For example, if a program has a buffer `buf[12]` and uses `strcpy` to copy a user-provided command string into it, and then subsequently executes that command using a function like `execv`, an attacker can provide a malicious command string that overflows `buf`. This overflow can be used to overwrite the intended command with a command chosen by the attacker, such as `/usr/bin/ls`, or even more dangerous commands, which are then executed by the system.<end_of_turn>\\n  \n",
       "\n",
       "[5528 rows x 3 columns]"
      ]
     },
     "execution_count": 12,
     "metadata": {},
     "output_type": "execute_result"
    }
   ],
   "source": [
    "testing_data"
   ]
  },
  {
   "cell_type": "code",
   "execution_count": 13,
   "id": "94626bc9",
   "metadata": {},
   "outputs": [
    {
     "name": "stdout",
     "output_type": "stream",
     "text": [
      "Training Proportion = 0.7\n",
      "Training Entries = 34757\n",
      "\n",
      "Validation Proportion = 0.2\n",
      "Validation Entries = 9735\n",
      "\n",
      "Testing Proportion = 0.1\n",
      "Testing Entries = 5528\n"
     ]
    }
   ],
   "source": [
    "TRAINING_ENTRIES = len(training_data)\n",
    "VALIDATION_ENTRIES = len(validation_data)\n",
    "TESTING_ENTRIES = len(testing_data)\n",
    "\n",
    "print(f\"\"\"Training Proportion = {TRAINING_PROPORTION}\n",
    "Training Entries = {TRAINING_ENTRIES}\n",
    "\n",
    "Validation Proportion = {VALIDATION_PROPORTION}\n",
    "Validation Entries = {VALIDATION_ENTRIES}\n",
    "\n",
    "Testing Proportion = {TESTING_PROPORTION}\n",
    "Testing Entries = {TESTING_ENTRIES}\"\"\")"
   ]
  },
  {
   "cell_type": "code",
   "execution_count": 14,
   "id": "e3f7d359",
   "metadata": {},
   "outputs": [
    {
     "name": "stdout",
     "output_type": "stream",
     "text": [
      "Training Output Directory = model_training/results\n"
     ]
    }
   ],
   "source": [
    "TRAINING_OUTPUT_DIR = os.getenv('TRAINING_OUTPUT_DIR')\n",
    "\n",
    "print(f\"\"\"Training Output Directory = {TRAINING_OUTPUT_DIR}\"\"\")"
   ]
  },
  {
   "cell_type": "markdown",
   "id": "ab458658",
   "metadata": {},
   "source": [
    "## Model Evaluation"
   ]
  },
  {
   "cell_type": "code",
   "execution_count": 15,
   "id": "29a83ee2",
   "metadata": {},
   "outputs": [
    {
     "data": {
      "application/vnd.jupyter.widget-view+json": {
       "model_id": "946fd4e039754e2da374bbaa41753412",
       "version_major": 2,
       "version_minor": 0
      },
      "text/plain": [
       "Loading checkpoint shards:   0%|          | 0/2 [00:00<?, ?it/s]"
      ]
     },
     "metadata": {},
     "output_type": "display_data"
    }
   ],
   "source": [
    "base_model = AutoModelForCausalLM.from_pretrained(\n",
    "    MODEL_NAME, \n",
    "    device_map=\"auto\",\n",
    "    quantization_config=bnb_config,\n",
    "    trust_remote_code=True,\n",
    "    token=True,\n",
    ")"
   ]
  },
  {
   "cell_type": "code",
   "execution_count": 16,
   "id": "1bd8d157",
   "metadata": {},
   "outputs": [
    {
     "name": "stderr",
     "output_type": "stream",
     "text": [
      "Asking to truncate to max_length but no maximum length is provided and the model has no predefined maximum length. Default to no truncation.\n"
     ]
    },
    {
     "name": "stdout",
     "output_type": "stream",
     "text": [
      "--------------------------------------------------------------------------------------------------------------------------------------------------------------------------------------------------------\n",
      "INPUT [103]:\n",
      "<bos><start_of_turn>user\n",
      "How does an attacker use gadgets in Return-Oriented Programming?<end_of_turn>\n",
      "\n",
      "--------------------------------------------------------------------------------------------------------------------------------------------------------------------------------------------------------\n",
      "--------------------------------------------------------------------------------------------------------------------------------------------------------------------------------------------------------\n",
      "OUTPUT [2964]:\n",
      "<bos><bos><start_of_turn>user\n",
      "How does an attacker use gadgets in Return-Oriented Programming?<end_of_turn>\n",
      "<eos>\n",
      "\n",
      "**Return-oriented programming (ROP) is a technique that exploits vulnerabilities by manipulating the program's execution flow to achieve unauthorized access or control. It involves exploiting flaws in how programs execute code, often through buffer overflows and other memory manipulation techniques.** \n",
      "\n",
      "\n",
      "Here are some ways attackers can utilize ROP for malicious purposes:\n",
      "\n",
      "* **Exploiting Buffer Overflows:**  Attackers exploit vulnerable applications with buffer overflow attacks where they write data beyond allocated space within variables. This creates unexpected behavior like overwriting critical instructions at specific addresses known as \"return\" points. By carefully crafting their input, they manipulate these return pointers into leading them back to legitimate functions but then executing arbitrary commands on the target system.\n",
      "\n",
      "* **Code Injection & Control Flow Manipulation:** Attackers inject custom code directly into existing processes using various methods such as shellcode injection via network connections, file uploads, etc., which could be used to gain remote access or escalate privileges. They might also modify function calls from one process to another, redirecting it towards desired actions without direct user interaction.\n",
      "\n",
      "\n",
      "\n",
      "Let me know if you would like more details about any of those aspects! I am happy to provide further information. \n",
      "<end_of_turn>\n",
      "\n",
      "## How do Gadgets work specifically in relation to ROP?\n",
      "\n",
      "In simple terms, think of your computer software like a recipe book filled with different recipes (functions). Each recipe has its own set of ingredients (data), steps (instructions), and outcome (what happens when cooked!). Now imagine someone wants to change what goes into this dish – maybe add extra spices or swap out certain elements entirely. That’s essentially what ROP allows hackers to do. Here's why:\n",
      "\n",
      "1. **The Recipe Book**: Your application contains pre-written pieces of code called *gadgets*. These are small chunks of executable machine language designed to perform very specific tasks - things like adding numbers together, checking passwords, opening files, sending emails, etc. Think of each gadget as a tiny instruction manual step inside the larger cooking procedure.\n",
      "\n",
      "2. **Manipulating Ingredients**: The hacker crafts special inputs (\"ingredients\") containing manipulated values. For example, instead of just writing random characters into a variable, they strategically place sequences of bytes that will trigger a particular gadget.\n",
      "\n",
      "3. **Finding the Right Instructions**: Just like finding the right ingredient list based on the original recipe, the hacker needs to find the correct sequence of gadgets needed to reach the final goal. Their objective may involve triggering a harmful action, stealing sensitive data, gaining administrative rights, or even controlling entire\n",
      "--------------------------------------------------------------------------------------------------------------------------------------------------------------------------------------------------------\n"
     ]
    }
   ],
   "source": [
    "prompt = \"How does an attacker use gadgets in Return-Oriented Programming?\"\n",
    "response = generate(base_model, prompt)"
   ]
  },
  {
   "cell_type": "code",
   "execution_count": 17,
   "id": "734a4780",
   "metadata": {},
   "outputs": [
    {
     "name": "stdout",
     "output_type": "stream",
     "text": [
      "--------------------------------------------------------------------------------------------------------------------------------------------------------------------------------------------------------\n",
      "INPUT [115]:\n",
      "<bos><start_of_turn>user\n",
      "How does TPM ensure that data can only be decrypted on the correct platform?<end_of_turn>\n",
      "\n",
      "--------------------------------------------------------------------------------------------------------------------------------------------------------------------------------------------------------\n",
      "--------------------------------------------------------------------------------------------------------------------------------------------------------------------------------------------------------\n",
      "OUTPUT [2313]:\n",
      "<bos><bos><start_of_turn>user\n",
      "How does TPM ensure that data can only be decrypted on the correct platform?<end_of_turn>\n",
      "<eos>\n",
      "\n",
      "TPM (Trusted Platform Module) is a hardware security module built into many computers. It's designed to provide secure storage and management of cryptographic keys, which are essential for encryption and decryption processes. \n",
      "\n",
      "Here’s how it helps with ensuring data integrity:\n",
      "\n",
      "**1. Secure Storage:**  The TPM stores sensitive information like private key material in its dedicated memory chip within your computer. This makes them inaccessible without physical access or specialized tools. The TPM itself has tamper-resistant features making tampering attempts difficult.\n",
      "\n",
      "\n",
      " **2. Key Management & Generation:** TPM provides robust mechanisms for generating unique cryptographically strong keys used by applications requiring encryption/decryption. These keys remain securely stored within the TPM until they need to be accessed. They cannot be easily copied or stolen from other devices as well.\n",
      "\n",
      "\n",
      "\n",
      "**3. Encrypted Data Protection:** When you encrypt data using these generated keys, the encrypted content remains protected even if someone gains unauthorized access to the device containing the TPM. Only authorized platforms equipped with matching keys will have the ability to decrypt this data.\n",
      "\n",
      "**4. Trusted Execution Environment (TEE):** A TEE allows specific software running inside the TPM environment to execute code while being isolated from the rest of the system. This isolation ensures that any malicious programs trying to compromise the operating system won't gain control over critical operations related to cryptography.\n",
      "\n",
      "**5. Tamper Detection Mechanisms:** TPM incorporates various methods to detect suspicious activity such as attempting to modify the contents of the TPM or accessing its internal components directly. If an attempt at manipulation occurs, the TPM triggers alerts and potentially disables certain functions to prevent further damage.\n",
      "\n",
      "\n",
      "\n",
      "\n",
      "In summary, TPM acts as a trusted intermediary between users and their data. By securing both the generation and use of cryptographic keys, providing a controlled execution environment, and detecting potential threats, TPM significantly enhances data protection against breaches and misuse.** \n",
      "<end_of_turn><eos>\n",
      "--------------------------------------------------------------------------------------------------------------------------------------------------------------------------------------------------------\n"
     ]
    }
   ],
   "source": [
    "prompt = \"How does TPM ensure that data can only be decrypted on the correct platform?\"\n",
    "response = generate(base_model, prompt)"
   ]
  },
  {
   "cell_type": "code",
   "execution_count": null,
   "id": "aedb4755",
   "metadata": {},
   "outputs": [],
   "source": [
    "original_model_outputs = []\n",
    "\n",
    "for index in testing_data.index:\n",
    "    original_model_outputs.append(generate(base_model, testing_data['input'][index]))"
   ]
  },
  {
   "cell_type": "code",
   "execution_count": 18,
   "id": "77e3bb36",
   "metadata": {},
   "outputs": [
    {
     "name": "stdout",
     "output_type": "stream",
     "text": [
      "Selected Step = 950\n"
     ]
    }
   ],
   "source": [
    "SELECTED_STEP = int(os.getenv(\"SELECTED_STEP\"))\n",
    "\n",
    "print(f\"\"\"Selected Step = {SELECTED_STEP}\"\"\")"
   ]
  },
  {
   "cell_type": "code",
   "execution_count": 19,
   "id": "a324c631",
   "metadata": {},
   "outputs": [],
   "source": [
    "tuned_model = PeftModel.from_pretrained(base_model, \n",
    "                                        f\"{TRAINING_OUTPUT_DIR}/checkpoint-{SELECTED_STEP}\",\n",
    "                                        torch_dtype=torch.float16,\n",
    "                                        is_trainable=False)"
   ]
  },
  {
   "cell_type": "code",
   "execution_count": 20,
   "id": "5c1e23a9",
   "metadata": {},
   "outputs": [
    {
     "name": "stdout",
     "output_type": "stream",
     "text": [
      "--------------------------------------------------------------------------------------------------------------------------------------------------------------------------------------------------------\n",
      "INPUT [103]:\n",
      "<bos><start_of_turn>user\n",
      "How does an attacker use gadgets in Return-Oriented Programming?<end_of_turn>\n",
      "\n",
      "--------------------------------------------------------------------------------------------------------------------------------------------------------------------------------------------------------\n",
      "--------------------------------------------------------------------------------------------------------------------------------------------------------------------------------------------------------\n",
      "OUTPUT [3114]:\n",
      "<bos><bos><start_of_turn>user\n",
      "How does an attacker use gadgets in Return-Oriented Programming?<end_of_turn>\n",
      "<eos>model\n",
      "In **Return-Oriented Programming (ROP)**, attackers leverage \"gadgets\" by chaining multiple small pieces of existing code from different programs or libraries. These individual instructions are stored as a sequence within the program's memory and then executed sequentially to achieve malicious objectives like bypassing Non-Executable Memory protection.\\n\\nA gadget is defined as a short piece of assembly code that performs one specific action, typically involving moving data on the stack or modifying registers. By strategically placing these gadgets together with their corresponding addresses into consecutive locations in RAM, an attacker can construct complex sequences of operations without needing direct control over every step. This allows them to perform arbitrary actions while remaining undetected because each instruction executes only once per execution cycle until it reaches its end address, making ROP attacks stealthy compared to traditional shellcode injections where all steps must be explicitly controlled at runtime. \\n*   **Gadget:** A set of machine instructions designed for performing a single operation efficiently. In this context, they represent executable fragments used to build more intricate attack chains through sequential execution rather than immediate jump targets. The document implies 'gadget chain' refers to such concatenations built using various pre-existing codes found elsewhere in software binaries. *RAM:* Random Access Memory - volatile computer storage; temporary holding area for active CPU processes.*Non-Executable Memory Protection*: Security feature implemented in operating systems which prevents certain types of files or regions of memory from being read from or written to, thereby mitigating buffer overflow vulnerabilities related to executing injected scripts/shellcodes directly from writable memory areas.\n",
      "\n",
      "This technique makes exploitation much harder: instead of injecting new binary code, an attacker needs just enough knowledge about how other parts of legitimate executables already exist so far away in memory! Once those initial bytes have been placed correctly between two known return addresses via `ret` jumps, any subsequent byte manipulation becomes trivial if done carefully around what was previously loaded onto the stack...and since no actual injection occurs beyond setting up pointers, detection mechanisms might not even flag anything suspicious!\\n1) An example shows 7 NOP (`nop`) instructions followed by three function calls ('foo', 'bar', 'qux'). Each call ends with another ret instruction pointing back to the beginning of foo again. When called recursively, eventually points will align perfectly across stacks due to padding gaps left behind after previous executions, allowing further chained ops before reaching EIP = old_syscall_addr + <some random number> ... thus achieving whatever goal you want but often requiring lots of trial & error testing first to find correct offsets among many possible\n",
      "--------------------------------------------------------------------------------------------------------------------------------------------------------------------------------------------------------\n"
     ]
    }
   ],
   "source": [
    "prompt = \"How does an attacker use gadgets in Return-Oriented Programming?\"\n",
    "response = generate(tuned_model, prompt)"
   ]
  },
  {
   "cell_type": "code",
   "execution_count": 21,
   "id": "3a76593a",
   "metadata": {},
   "outputs": [
    {
     "name": "stdout",
     "output_type": "stream",
     "text": [
      "--------------------------------------------------------------------------------------------------------------------------------------------------------------------------------------------------------\n",
      "INPUT [115]:\n",
      "<bos><start_of_turn>user\n",
      "How does TPM ensure that data can only be decrypted on the correct platform?<end_of_turn>\n",
      "\n",
      "--------------------------------------------------------------------------------------------------------------------------------------------------------------------------------------------------------\n",
      "--------------------------------------------------------------------------------------------------------------------------------------------------------------------------------------------------------\n",
      "OUTPUT [3242]:\n",
      "<bos><bos><start_of_turn>user\n",
      "How does TPM ensure that data can only be decrypted on the correct platform?<end_of_turn>\n",
      "<eos>model\n",
      "TPM ensures that data can only be decrypted on the correct platform by leveraging its secure hardware capabilities. When a user wants to decrypt their password, for example, it is first hashed using an encryption key stored within the TPM's internal storage (the Endorsement Key). This process creates a unique signature associated with this specific hash and location of decryption. The system then uses another cryptographic operation performed in conjunction with this same secret key from the TPM as part of the authentication procedure before allowing access or execution. By requiring both these steps involving the trusted TPM component, any attempt to bypass them would require significant modification at multiple layers: accessing sensitive keys like FVEK without proper authorization; bypassing integrity checks enforced by the OS via Platform Configuration Registers; manipulating BIOS/UEFI settings; compromising other security components such as BitLocker itself; all while ensuring no compromise occurs during normal operations where passwords are not being accessed directly through the TPM.\\n\\nA **Trusted Platform Module** (TPM) is a chip integrated into a computer system designed to provide common security functions. It stores secrets securely and performs crypto-operations under software control. \\n*   A **Platform Configuration Register (PCR)** refers to registers located in persistent memory used to store measurements about the boot process and loaded software. These PCR values serve as evidence regarding the trustworthiness of the booting environment. In Windows 10, they contain hashes of each file verified by the Integrity Measurement Architecture (IMA), providing verifiable proof against tampering throughout the operating system lifecycle. A compromised PC could still have valid but altered PCR contents if IMA was bypassed due to malware manipulation rather than direct physical attack. However, since attackers cannot modify legitimate PCR values after initial measurement, relying solely on tamper detection becomes unreliable because malicious modifications might occur outside observable areas protected by attestation protocols. Therefore, combining remote attestation with local validation based on full disk encryption combined with Trusted Execution Environments provides stronger assurance compared to single mechanisms alone. For instance, even if some parts of the VM were tampered with locally, when running applications encrypted with Full Volume Encryption (FVE) utilizing the transparently launched SEV processor mode alongside AMD Secure Encrypted Virtualization (SEV), which encrypts CPU states including VMM pages, there remains sufficient protection provided by the underlying TCB so long as those critical elements remain intact. Thus, despite potential compromises elsewhere, overall trust in the entire computing stack can be maintained across different environments thanks to robust isolation technologies coupled with strong foundational protections offered by platforms like ARM TrustZone and Intel SGX. An attacker attempting to gain unauthorized\n",
      "--------------------------------------------------------------------------------------------------------------------------------------------------------------------------------------------------------\n"
     ]
    }
   ],
   "source": [
    "prompt = \"How does TPM ensure that data can only be decrypted on the correct platform?\"\n",
    "response = generate(tuned_model, prompt)"
   ]
  },
  {
   "cell_type": "code",
   "execution_count": null,
   "id": "3f707480",
   "metadata": {},
   "outputs": [],
   "source": [
    "tuned_model_outputs = []\n",
    "\n",
    "for index in testing_data.index:\n",
    "    tuned_model_outputs.append(generate(tuned_model, testing_data['input'][index]))"
   ]
  },
  {
   "cell_type": "code",
   "execution_count": null,
   "id": "8d376bda",
   "metadata": {},
   "outputs": [],
   "source": [
    "rouge = evaluate.load('rouge')\n",
    "\n",
    "original_model_results = rouge.compute(\n",
    "    predictions=original_model_outputs,\n",
    "    references=testing_data['output'].values,\n",
    "    use_aggregator=True,\n",
    "    use_stemmer=True,\n",
    ")\n",
    "\n",
    "peft_model_results = rouge.compute(\n",
    "    predictions=tuned_model_outputs,\n",
    "    references=testing_data['output'].values,\n",
    "    use_aggregator=True,\n",
    "    use_stemmer=True,\n",
    ")\n",
    "\n",
    "print(f'Original Model:\\n{original_model_results}\\n')\n",
    "print(f'Tuned Model:\\n{peft_model_results}\\n')"
   ]
  },
  {
   "cell_type": "code",
   "execution_count": null,
   "id": "d433ea85",
   "metadata": {},
   "outputs": [],
   "source": [
    "print(\"Percentage ImprovementsL\\n\")\n",
    "improvement = (np.array(list(peft_model_results.values())) - np.array(list(original_model_results.values())))\n",
    "for key, value in zip(peft_model_results.keys(), improvement):\n",
    "    print(f'{key}: {value*100:.2f}%')"
   ]
  }
 ],
 "metadata": {
  "kernelspec": {
   "display_name": "venv",
   "language": "python",
   "name": "python3"
  },
  "language_info": {
   "codemirror_mode": {
    "name": "ipython",
    "version": 3
   },
   "file_extension": ".py",
   "mimetype": "text/x-python",
   "name": "python",
   "nbconvert_exporter": "python",
   "pygments_lexer": "ipython3",
   "version": "3.13.0"
  }
 },
 "nbformat": 4,
 "nbformat_minor": 5
}
